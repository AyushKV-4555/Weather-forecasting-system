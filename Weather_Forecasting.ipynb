{
  "nbformat": 4,
  "nbformat_minor": 0,
  "metadata": {
    "colab": {
      "provenance": []
    },
    "kernelspec": {
      "name": "python3",
      "display_name": "Python 3"
    },
    "language_info": {
      "name": "python"
    }
  },
  "cells": [
    {
      "cell_type": "markdown",
      "source": [
        "# `High-level idea`\n",
        "\n",
        "- Pull current weather for a city from OpenWeather.\n",
        "\n",
        "- Load historical CSV.\n",
        "\n",
        "- Train one classifier to predict RainTomorrow (Yes/No).\n",
        "\n",
        "- Train two regressors to predict the next Temp and next Humidity from their current value (5-step ahead via recursive prediction).\n",
        "\n",
        "- Use current readings + trained models to predict rain now and forecast next 5 hours of temp & humidity.\n",
        "\n",
        "- Print everything."
      ],
      "metadata": {
        "id": "_0ZjG58-ULir"
      }
    },
    {
      "cell_type": "markdown",
      "source": [
        "### **Section 1: Import Libraries**"
      ],
      "metadata": {
        "id": "9NSdGrbex2L_"
      }
    },
    {
      "cell_type": "code",
      "source": [
        "import requests  # this library helps us to fetchh data from API\n",
        "import pandas as pd\n",
        "import numpy as np\n",
        "from sklearn.model_selection import train_test_split\n",
        "from sklearn.preprocessing import LabelEncoder\n",
        "from sklearn.ensemble import RandomForestClassifier, RandomForestRegressor\n",
        "from sklearn.metrics import mean_squared_error, accuracy_score\n",
        "from datetime import datetime, timedelta"
      ],
      "metadata": {
        "id": "Ksp5_dVst8jb"
      },
      "execution_count": 26,
      "outputs": []
    },
    {
      "cell_type": "code",
      "source": [
        "API_KEY = '5f34de09700764f449651c6b7585fd25'\n",
        "BASE_URL = 'https://api.openweathermap.org/data/2.5/'"
      ],
      "metadata": {
        "id": "XLVAKv-ryhOb"
      },
      "execution_count": 27,
      "outputs": []
    },
    {
      "cell_type": "markdown",
      "source": [
        "# **1.  get_current_weather(city)**\n",
        "\n",
        "### `When called:` inside weather_view() right after you input the city.\n",
        "\n",
        "### `Does:` Calls OpenWeather API and extracts the fields you’ll use.\n",
        "### `Returns:` A Python dict like:"
      ],
      "metadata": {
        "id": "Na6yzt22U9Y3"
      }
    },
    {
      "cell_type": "code",
      "source": [
        "# this function fetch Weather data for given specific city\n",
        "\n",
        "def get_current_weather(city):\n",
        "\n",
        "  url = f\"{BASE_URL}weather?q={city}&appid={API_KEY}&units=metric\"\n",
        "  response = requests.get(url)\n",
        "  data = response.json()\n",
        "  return {\n",
        "      'city': data['name'],\n",
        "      'current_temp': round(data['main']['temp']),\n",
        "      'feels_like': round(data['main']['feels_like']),\n",
        "      'temp_min': round(data['main']['temp_min']),\n",
        "      'temp_max': round(data['main']['temp_max']),\n",
        "      'humidity': round(data['main']['humidity']),\n",
        "      'description': data['weather'][0]['description'],\n",
        "      'country': data['sys']['country'],\n",
        "      'wind_gust_dir': data['wind']['deg'],\n",
        "      'pressure': data['main']['pressure'],\n",
        "      'Wind_Gust_Speed': data['wind']['speed']\n",
        "  }"
      ],
      "metadata": {
        "id": "lHoPXRUdy0ok"
      },
      "execution_count": 37,
      "outputs": []
    },
    {
      "cell_type": "markdown",
      "source": [
        "# **2.  read_historical_data(filename)**\n",
        "\n",
        "### `When called:` in weather_view() after current weather is fetched.\n",
        "### `Does:` Loads your CSV, drops missing rows and duplicates.\n",
        "### `Returns:` A cleaned DataFrame df.\n"
      ],
      "metadata": {
        "id": "3c5APvs32bTI"
      }
    },
    {
      "cell_type": "code",
      "source": [
        "def read_historical_data(filename):\n",
        "\n",
        "  df = pd.read_csv(filename)\n",
        "  df = df.dropna()\n",
        "  df = df.drop_duplicates()\n",
        "\n",
        "  return df"
      ],
      "metadata": {
        "id": "dTA0RNfgy1o7"
      },
      "execution_count": 29,
      "outputs": []
    },
    {
      "cell_type": "markdown",
      "source": [
        "# **3.  prepare_data(data)**\n",
        "\n",
        "### `When called:` in weather_view() to make inputs for the rain classifier.\n",
        "### `Does:` Encodes categorical columns and selects features/target. Returns: (x, y, le)\n",
        "\n",
        "x: features (DataFrame/array)\n",
        "\n",
        "y: target labels (Series/array)\n",
        "\n",
        "le: a LabelEncoder instance"
      ],
      "metadata": {
        "id": "HyGbpL4A3GtD"
      }
    },
    {
      "cell_type": "code",
      "source": [
        "def prepare_data(data):\n",
        "  le = LabelEncoder()\n",
        "  data['WindGustDir'] = le.fit_transform(data['WindGustDir'])\n",
        "  data['RainTomorrow'] = le.fit_transform(data['RainTomorrow'])\n",
        "\n",
        "  # define the feature variable and target variables\n",
        "  x = data[['MinTemp', 'MaxTemp', 'WindGustDir', 'WindGustSpeed', 'Humidity',\n",
        "       'Pressure', 'Temp']]\n",
        "  y = data['RainTomorrow']\n",
        "\n",
        "  return x, y, le"
      ],
      "metadata": {
        "id": "RVkCw6DCy1ij"
      },
      "execution_count": 30,
      "outputs": []
    },
    {
      "cell_type": "markdown",
      "source": [
        "# **4.  train_rain_model(x, y)**\n",
        "\n",
        "### `When called:` in weather_view() after prepare_data.\n",
        "### `Does:` Splits into train/test → fits a RandomForestClassifier.\n",
        "### `Returns:` the trained classifier rain_model."
      ],
      "metadata": {
        "id": "AI-_6TlL5T_n"
      }
    },
    {
      "cell_type": "markdown",
      "source": [
        "***model for classification data***"
      ],
      "metadata": {
        "id": "MS2Y8kGY5_qj"
      }
    },
    {
      "cell_type": "code",
      "source": [
        "def train_rain_model(x, y):\n",
        "\n",
        "  x_train, x_test, y_train, y_test = train_test_split(x, y, test_size=0.2, random_state=42)\n",
        "  model = RandomForestClassifier(n_estimators=100, random_state=42)\n",
        "  model.fit(x_train, y_train)\n",
        "\n",
        "  y_pred = model.predict(x_test)\n",
        "  print('Accuracy Score for Rain Model')\n",
        "  print(accuracy_score(y_test, y_pred))\n",
        "\n",
        "  return model"
      ],
      "metadata": {
        "id": "TVSC_Isry1fu"
      },
      "execution_count": 31,
      "outputs": []
    },
    {
      "cell_type": "markdown",
      "source": [
        "***model for regression data***"
      ],
      "metadata": {
        "id": "4TQYAckm6J4o"
      }
    },
    {
      "cell_type": "markdown",
      "source": [
        "# **5.  prepare_regression_data(data, feature)**\n",
        "\n",
        "### `When called:` twice in weather_view() to build data for:\n",
        "Temperature model (feature='Temp')\n",
        "\n",
        "Humidity model (feature='Humidity')\n",
        "### `Does:` Creates pairs (current_value → next_value) from a single column.\n",
        "### `Returns:` (x, y) as NumPy arrays:\n",
        "\n",
        "x.shape = (n-1, 1) (current value)\n",
        "\n",
        "y.shape = (n-1,) (next value)\n"
      ],
      "metadata": {
        "id": "wJSLS8rjXagv"
      }
    },
    {
      "cell_type": "code",
      "source": [
        "def prepare_regression_data(data, feature): # feature is the column name which we use for regression\n",
        "\n",
        "  x, y = [], []\n",
        "\n",
        "  for i in range(len(data) - 1):\n",
        "\n",
        "    #Loop through the rows.\n",
        "    #    Take the current value (iloc[i]) of the feature as input.\n",
        "    #    Take the next value (iloc[i+1]) as the output/label.\n",
        "\n",
        "    x.append(data[feature].iloc[i])\n",
        "    y.append(data[feature].iloc[i+1])\n",
        "\n",
        "  x = np.array(x).reshape(-1, 1)\n",
        "  y = np.array(y)\n",
        "  return x, y"
      ],
      "metadata": {
        "id": "epwDpBrJy1c6"
      },
      "execution_count": 32,
      "outputs": []
    },
    {
      "cell_type": "markdown",
      "source": [
        "# 6. **train_regression_model(x, y)**\n",
        "\n",
        "### When called: in weather_view() for temp model and humidity model.\n",
        "### Does: Fits a RandomForestRegressor.\n",
        "### Returns: the trained regressor.\n",
        "\n",
        "### `So this step is only about learning patterns from historical data, Without this step, the model won’t know how to predict anything.`"
      ],
      "metadata": {
        "id": "X1twsoxK-6nV"
      }
    },
    {
      "cell_type": "code",
      "source": [
        "def train_regression_model(x, y):\n",
        "  model = RandomForestRegressor(n_estimators=100, random_state=42)\n",
        "  model.fit(x, y)\n",
        "  return model"
      ],
      "metadata": {
        "id": "nmRIYhtW-5p-"
      },
      "execution_count": 33,
      "outputs": []
    },
    {
      "cell_type": "markdown",
      "source": [
        "# 7. **predict_future(model, current_value)**\n",
        "\n",
        "### What it does:\n",
        "- Uses the already trained model (from step 6).\n",
        "\n",
        "- Starts from a current value (e.g., today’s temp).\n",
        "\n",
        "- Predicts next value → then feeds it back as input → predicts again.\n",
        "\n",
        "- Repeats this 5 times → gives a sequence of 5 future predictions.\n",
        "\n",
        "### `This step is about using the trained model to forecast future values, not training.`"
      ],
      "metadata": {
        "id": "HpOaM3Hw_Xo6"
      }
    },
    {
      "cell_type": "code",
      "source": [
        "def predict_future(model, current_value):\n",
        "  predictions = [current_value]\n",
        "\n",
        "  for i in range(5):\n",
        "    next_value = model.predict(np.array([[predictions[-1]]]))\n",
        "    predictions.append(next_value[0])\n",
        "\n",
        "  return predictions[1:]"
      ],
      "metadata": {
        "id": "3-reAPlA_WsU"
      },
      "execution_count": 34,
      "outputs": []
    },
    {
      "cell_type": "code",
      "source": [
        "import pytz"
      ],
      "metadata": {
        "id": "rQeMcyL-O8w6"
      },
      "execution_count": 35,
      "outputs": []
    },
    {
      "cell_type": "markdown",
      "source": [
        "# **weather_view() ← Main driver (entry point)**\n",
        "\n",
        "### 1. Get city from user\n",
        "### 2. Fetch current weather:\n",
        "### 3. Read historical data\n",
        "### 4. Prepare & train the rain classifier\n",
        "### 5. Convert current wind degrees → compass label → encoded number:\n",
        "\n",
        "  - Compute wind_deg = current_weather['wind_gust_dir'] % 360\n",
        "\n",
        "  - Search compass_points for the interval containing wind_deg\n",
        "\n",
        "  - If that compass label is present in le.classes_, encode it; else set -1\n",
        "\n",
        "### 6. Build a one-row DataFrame of the current conditions (feature names matching your training columns)\n",
        "### 7. Predict rain (Yes/No) for now\n",
        "### 8. Build & train regression models for Temp and Humidity\n",
        "### 9. Forecast next 5 hours (recursive) -> using 'predict_future'\n",
        "### 10. Make display times for the next 5 hours (Asia/Karachi), round to the next full hour.\n",
        "### 11. Print current stats, rain prediction, then the 5 temperature and 5 humidity forecasts.\n",
        "### 12. Run the whole pipeline because at the bottom you have:\n"
      ],
      "metadata": {
        "id": "KgkHrXAvah0-"
      }
    },
    {
      "cell_type": "code",
      "source": [
        "def weather_view():\n",
        "  city = input('Enter any city name: ')\n",
        "  current_weather = get_current_weather(city)\n",
        "\n",
        "  # load historical data\n",
        "  historical_data = read_historical_data('/content/weather.csv')\n",
        "\n",
        "  # prepare and train the rain prediction model\n",
        "  x, y, le = prepare_data(historical_data)\n",
        "  rain_model = train_rain_model(x, y)\n",
        "\n",
        "  # The problem:\n",
        "  #      You have wind direction in degrees (like 90°, 180°, 270°).\n",
        "  #      But your dataset/model uses compass labels like \"E\", \"S\", \"W\", etc.\n",
        "  #      And your machine learning model cannot understand \"E\", \"W\" as text — it needs numbers.\n",
        "\n",
        "  wind_deg = current_weather['wind_gust_dir'] % 360\n",
        "  compass_points = [\n",
        "      (\"N\", 0, 11.25), (\"NNE\", 11.25, 33.75), (\"NE\", 33.75, 56.25),\n",
        "      (\"ENE\", 56.25, 78.75), (\"E\", 78.75, 101.25), (\"ESE\", 101.25, 123.75),\n",
        "      (\"SE\", 123.75, 146.25), (\"SSE\", 146.25, 168.75), (\"S\", 168.75, 191.25),\n",
        "      (\"SSW\", 191.25, 213.75), (\"SW\", 213.75, 236.25), (\"WSW\", 236.25, 258.75),\n",
        "      (\"W\", 258.75, 281.25), (\"WNW\", 281.25, 303.75), (\"NW\", 303.75, 326.25),\n",
        "      (\"NNW\", 326.25, 348.75)]\n",
        "\n",
        "  compass_direction = next(\n",
        "      point for point, start, end in compass_points if start <= wind_deg < end\n",
        "  )\n",
        "\n",
        "  # Encode the compass direction if it exists in LabelEncoder classes\n",
        "  if compass_direction in le.classes_:\n",
        "      compass_direction_encoded = le.transform([compass_direction])[0]\n",
        "  else:\n",
        "      compass_direction_encoded = -1\n",
        "\n",
        "  current_data = {\n",
        "      'MinTemp': current_weather['temp_min'],\n",
        "      'MaxTemp': current_weather['temp_max'],\n",
        "      'WindGustDir': compass_direction_encoded,\n",
        "      'WindGustSpeed': current_weather['Wind_Gust_Speed'],\n",
        "      'Humidity': current_weather['humidity'],\n",
        "      'Pressure': current_weather['pressure'],\n",
        "      'Temp': current_weather['current_temp']\n",
        "  }\n",
        "\n",
        "  current_df = pd.DataFrame([current_data])\n",
        "\n",
        "  # rain prediction\n",
        "\n",
        "  rain_prediction = rain_model.predict(current_df)[0]\n",
        "\n",
        "  # prepare regression model for temperature and humidity\n",
        "\n",
        "  x_temp, y_temp = prepare_regression_data(historical_data, 'Temp')\n",
        "  x_hum, y_hum = prepare_regression_data(historical_data, 'Humidity')\n",
        "\n",
        "  temp_model = train_regression_model(x_temp, y_temp)\n",
        "  hum_model = train_regression_model(x_hum, y_hum)\n",
        "\n",
        "  # predict future temperature and humidity\n",
        "\n",
        "  future_temp = predict_future(temp_model, current_weather['temp_min'])\n",
        "  future_humidity = predict_future(hum_model, current_weather['humidity'])\n",
        "\n",
        "  # prepare time for future predictions\n",
        "\n",
        "  timezone = pytz.timezone('Asia/Karachi')\n",
        "  now = datetime.now(timezone)\n",
        "  next_hour = now + timedelta(hours=1)\n",
        "  next_hour = next_hour.replace(minute=0, second=0, microsecond=0)\n",
        "\n",
        "  future_times = [(next_hour + timedelta(hours=i)).strftime(\"%H:00\") for i in range(5)]\n",
        "\n",
        "  # Display results\n",
        "\n",
        "  print(f\"City: {city}, {current_weather['country']}\")\n",
        "  print(f\"Current Temperature: {current_weather['current_temp']}\")\n",
        "  print(f\"Feels Like: {current_weather['feels_like']}\")\n",
        "  print(f\"Minimum Temperature: {current_weather['temp_min']}°C\")\n",
        "  print(f\"Maximum Temperature: {current_weather['temp_max']}°C\")\n",
        "  print(f\"Humidity: {current_weather['humidity']}%\")\n",
        "  print(f\"Weather Prediction: {current_weather['description']}\")\n",
        "  print(f\"Rain Prediction: {'Yes' if rain_prediction else 'No'}\")\n",
        "\n",
        "  print(\"\\nFuture Temperature Predictions: \")\n",
        "\n",
        "  for time, temp in zip(future_times, future_temp):\n",
        "    print(f\"{time}: {round(temp, 1)}°C\")\n",
        "\n",
        "  print('\\nFuture Humidity Predictions: ')\n",
        "\n",
        "  for time, humidity in zip(future_times, future_humidity):\n",
        "    print(f\"{time}: {round(humidity, 1)}%\")\n",
        "\n",
        "\n",
        "weather_view()\n"
      ],
      "metadata": {
        "colab": {
          "base_uri": "https://localhost:8080/"
        },
        "id": "Mw9Hfc1lBSAO",
        "outputId": "68ed6951-528a-4288-81f6-13220fd0a889"
      },
      "execution_count": 39,
      "outputs": [
        {
          "output_type": "stream",
          "name": "stdout",
          "text": [
            "Enter any city name: lucknow\n",
            "Accuracy Score for Rain Model\n",
            "0.8493150684931506\n",
            "City: lucknow, IN\n",
            "Current Temperature: 31\n",
            "Feels Like: 38\n",
            "Minimum Temperature: 31°C\n",
            "Maximum Temperature: 31°C\n",
            "Humidity: 79%\n",
            "Weather Prediction: mist\n",
            "Rain Prediction: Yes\n",
            "\n",
            "Future Temperature Predictions: \n",
            "19:00: 31.6°C\n",
            "20:00: 28.0°C\n",
            "21:00: 27.8°C\n",
            "22:00: 25.9°C\n",
            "23:00: 28.9°C\n",
            "\n",
            "Future Humidity Predictions: \n",
            "19:00: 54.0%\n",
            "20:00: 58.1%\n",
            "21:00: 54.2%\n",
            "22:00: 58.1%\n",
            "23:00: 54.2%\n"
          ]
        }
      ]
    },
    {
      "cell_type": "code",
      "source": [],
      "metadata": {
        "id": "3_I650YkgzIl"
      },
      "execution_count": null,
      "outputs": []
    }
  ]
}